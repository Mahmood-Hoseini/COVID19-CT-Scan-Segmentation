{
 "cells": [
  {
   "cell_type": "code",
   "execution_count": 1,
   "metadata": {
    "_cell_guid": "b1076dfc-b9ad-4769-8c92-a6c4dae69d19",
    "_uuid": "8f2839f25d086af736a60e9eeb907d3b93b6e0e5",
    "colab": {
     "base_uri": "https://localhost:8080/",
     "height": 73
    },
    "colab_type": "code",
    "id": "ZupQDr9J-icw",
    "outputId": "615c2281-5a37-4c21-f9ba-5a2a0d8ff70e"
   },
   "outputs": [
    {
     "name": "stdout",
     "output_type": "stream",
     "text": [
      "Version:  2.2.0\n",
      "[PhysicalDevice(name='/physical_device:CPU:0', device_type='CPU'), PhysicalDevice(name='/physical_device:XLA_CPU:0', device_type='XLA_CPU'), PhysicalDevice(name='/physical_device:GPU:0', device_type='GPU'), PhysicalDevice(name='/physical_device:XLA_GPU:0', device_type='XLA_GPU')]\n"
     ]
    }
   ],
   "source": [
    "import pandas as pd\n",
    "import numpy as np\n",
    "import scipy\n",
    "import matplotlib.pyplot as plt\n",
    "import seaborn\n",
    "import cv2 as cv\n",
    "import nibabel as nib\n",
    "import pickle\n",
    "import glob\n",
    "import imgaug as ia\n",
    "import imgaug.augmenters as iaa\n",
    "import tqdm\n",
    "import gc, os\n",
    "import warnings\n",
    "import tensorflow as tf\n",
    "from keras import backend as K\n",
    "from keras import losses, metrics\n",
    "from keras import optimizers\n",
    "from keras import callbacks\n",
    "from keras.models import Model\n",
    "from keras.layers import Input, BatchNormalization, Activation, Dense, Dropout\n",
    "from keras.layers import concatenate, Conv2D, MaxPooling2D, Conv2DTranspose\n",
    "from keras.layers import Multiply, UpSampling2D\n",
    "from sklearn.model_selection import train_test_split\n",
    "from sklearn.cluster import KMeans\n",
    "from skimage import morphology\n",
    "from skimage import measure\n",
    "#import keras_segmentation as ks\n",
    "\n",
    "warnings.filterwarnings('ignore')\n",
    "%matplotlib inline\n",
    "print(\"Version: \", tf.version.VERSION)\n",
    "physical_devices = tf.config.list_physical_devices()\n",
    "print(physical_devices)"
   ]
  },
  {
   "cell_type": "markdown",
   "metadata": {},
   "source": [
    "# 1. Defining evaluation metrics\n"
   ]
  },
  {
   "cell_type": "code",
   "execution_count": 2,
   "metadata": {
    "colab": {},
    "colab_type": "code",
    "id": "EAI13B4H9F_X"
   },
   "outputs": [],
   "source": [
    "def dice(y_true, y_pred, smooth=1):\n",
    "    intersection = K.sum(y_true * y_pred, axis=[1,2,3])\n",
    "    union = K.sum(y_true, axis=[1,2,3]) + K.sum(y_pred, axis=[1,2,3])\n",
    "    dice = K.mean((2. * intersection + smooth)/(union + smooth), axis=0)\n",
    "    return dice\n",
    "\n",
    "def dice_loss(y_true, y_pred):\n",
    "    loss = 1 - dice(y_true, y_pred)\n",
    "    return loss\n",
    "\n",
    "def bce_dice_loss(y_true, y_pred): #Binary Cross-Entropy\n",
    "    loss = 0.5*losses.binary_crossentropy(y_true, y_pred) + 0.5*dice_loss(y_true, y_pred)\n",
    "    return loss\n",
    "\n",
    "def tversky_loss(y_true, y_pred):\n",
    "    alpha, beta  = 0.5, 0.5\n",
    "    ones = K.ones(K.shape(y_true))\n",
    "    p0 = y_pred\n",
    "    p1 = ones-y_pred\n",
    "    g0 = y_true\n",
    "    g1 = ones-y_true\n",
    "    num = K.sum(p0*g0, (0,1,2))\n",
    "    den = num + alpha*K.sum(p0*g1,(0,1,2)) + beta*K.sum(p1*g0,(0,1,2))\n",
    "    T = K.sum(num/den) \n",
    "    Ncl = K.cast(K.shape(y_true)[-1], 'float32')\n",
    "    return Ncl-T\n",
    "\n",
    "def weighted_bce_loss(y_true, y_pred, weight):\n",
    "    epsilon = 1e-7\n",
    "    y_pred = K.clip(y_pred, epsilon, 1. - epsilon)\n",
    "    logit_y_pred = K.log(y_pred / (1. - y_pred))\n",
    "    loss = weight * (logit_y_pred * (1. - y_true) + \n",
    "                     K.log(1. + K.exp(-K.abs(logit_y_pred))) + \n",
    "                     K.maximum(-logit_y_pred, 0.))\n",
    "    return K.sum(loss) / K.sum(weight)\n",
    "\n",
    "def weighted_dice_loss(y_true, y_pred, weight):\n",
    "    smooth = 1.\n",
    "    w, m1, m2 = weight, y_true, y_pred\n",
    "    intersection = (m1*m2)\n",
    "    score = (2.*K.sum(w*intersection) + smooth) / (K.sum(w*m1) + K.sum(w*m2) + smooth)\n",
    "    loss = 1. - K.sum(score)\n",
    "    return loss\n",
    "\n",
    "def weighted_bce_dice_loss(y_true, y_pred):\n",
    "    y_true = K.cast(y_true, 'float32')\n",
    "    y_pred = K.cast(y_pred, 'float32')\n",
    "    averaged_mask = K.pool2d(y_true, pool_size=(50, 50), strides=(1, 1), \n",
    "                             padding='same', pool_mode='avg')\n",
    "    weight = K.ones_like(averaged_mask)\n",
    "    w0 = K.sum(weight)\n",
    "    weight = 5. * K.exp(-5.*K.abs(averaged_mask - 0.5))\n",
    "    w1 = K.sum(weight)\n",
    "    weight *= (w0 / w1)\n",
    "    loss = 0.5*weighted_bce_loss(y_true, y_pred, weight) + 0.5*dice_loss(y_true, y_pred)\n",
    "    return loss"
   ]
  },
  {
   "cell_type": "markdown",
   "metadata": {},
   "source": [
    "# 2. Cosine Annealing Learning Rate\n"
   ]
  },
  {
   "cell_type": "code",
   "execution_count": 3,
   "metadata": {
    "colab": {},
    "colab_type": "code",
    "id": "H14hooGX-ct_"
   },
   "outputs": [],
   "source": [
    "# define custom learning rate schedule\n",
    "class CosineAnnealingLearningRateSchedule(callbacks.Callback):\n",
    "    # constructor\n",
    "    def __init__(self, n_epochs, n_cycles, lrate_max, verbose=0):\n",
    "        self.epochs = n_epochs\n",
    "        self.cycles = n_cycles\n",
    "        self.lr_max = lrate_max\n",
    "        self.lrates = list()\n",
    " \n",
    "    # calculate learning rate for an epoch\n",
    "    def cosine_annealing(self, epoch, n_epochs, n_cycles, lrate_max):\n",
    "        epochs_per_cycle = np.floor(n_epochs/n_cycles)\n",
    "        cos_inner = (np.pi * (epoch % epochs_per_cycle)) / (epochs_per_cycle)\n",
    "        return lrate_max/2 * (np.cos(cos_inner) + 1)\n",
    " \n",
    "    # calculate and set learning rate at the start of the epoch\n",
    "    def on_epoch_begin(self, epoch, logs=None):\n",
    "        # calculate learning rate\n",
    "        lr = self.cosine_annealing(epoch, self.epochs, self.cycles, self.lr_max)\n",
    "        # set learning rate\n",
    "        K.set_value(self.model.optimizer.lr, lr)\n",
    "        # log value\n",
    "        self.lrates.append(lr)"
   ]
  },
  {
   "cell_type": "markdown",
   "metadata": {},
   "source": [
    "# 3. Convolutional Neural Networks\n",
    "\n",
    "## 3.1. Lung Segmentation"
   ]
  },
  {
   "cell_type": "code",
   "execution_count": 5,
   "metadata": {},
   "outputs": [],
   "source": [
    "img_size = 128"
   ]
  },
  {
   "cell_type": "code",
   "execution_count": 8,
   "metadata": {},
   "outputs": [
    {
     "name": "stdout",
     "output_type": "stream",
     "text": [
      "Model: \"lung_seg\"\n",
      "_________________________________________________________________\n",
      "Layer (type)                 Output Shape              Param #   \n",
      "=================================================================\n",
      "input_2 (InputLayer)         [(None, 128, 128, 1)]     0         \n",
      "_________________________________________________________________\n",
      "conv2d_1 (Conv2D)            (None, 128, 128, 16)      160       \n",
      "_________________________________________________________________\n",
      "max_pooling2d (MaxPooling2D) (None, 64, 64, 16)        0         \n",
      "_________________________________________________________________\n",
      "conv2d_2 (Conv2D)            (None, 64, 64, 32)        4640      \n",
      "_________________________________________________________________\n",
      "max_pooling2d_1 (MaxPooling2 (None, 32, 32, 32)        0         \n",
      "_________________________________________________________________\n",
      "conv2d_3 (Conv2D)            (None, 32, 32, 128)       36992     \n",
      "_________________________________________________________________\n",
      "max_pooling2d_2 (MaxPooling2 (None, 16, 16, 128)       0         \n",
      "_________________________________________________________________\n",
      "dense (Dense)                (None, 16, 16, 128)       16512     \n",
      "_________________________________________________________________\n",
      "up_sampling2d (UpSampling2D) (None, 32, 32, 128)       0         \n",
      "_________________________________________________________________\n",
      "conv2d_4 (Conv2D)            (None, 32, 32, 128)       147584    \n",
      "_________________________________________________________________\n",
      "up_sampling2d_1 (UpSampling2 (None, 64, 64, 128)       0         \n",
      "_________________________________________________________________\n",
      "conv2d_5 (Conv2D)            (None, 64, 64, 32)        36896     \n",
      "_________________________________________________________________\n",
      "up_sampling2d_2 (UpSampling2 (None, 128, 128, 32)      0         \n",
      "_________________________________________________________________\n",
      "conv2d_6 (Conv2D)            (None, 128, 128, 1)       289       \n",
      "=================================================================\n",
      "Total params: 243,073\n",
      "Trainable params: 243,073\n",
      "Non-trainable params: 0\n",
      "_________________________________________________________________\n"
     ]
    }
   ],
   "source": [
    "def lung_seg(input_shape, num_filters=[16,32,128]) :\n",
    "    \n",
    "    x_input = Input(input_shape)\n",
    "    \n",
    "    ###  LUNG SEGMENTATION\n",
    "    x = Conv2D(num_filters[0], kernel_size=3, activation='relu', padding='same')(x_input)\n",
    "    x = MaxPooling2D(pool_size=2, padding='same')(x)\n",
    "\n",
    "    x = Conv2D(num_filters[1], kernel_size=3, activation='relu', padding='same')(x)\n",
    "    x = MaxPooling2D(pool_size=2, padding='same')(x)\n",
    "\n",
    "    x = Conv2D(num_filters[2], kernel_size=3, activation='relu', padding='same')(x)\n",
    "    x = MaxPooling2D(pool_size=2, padding='same')(x)\n",
    "\n",
    "    x = Dense(num_filters[2], activation='relu')(x)\n",
    "\n",
    "    x = UpSampling2D(size=2)(x)\n",
    "    x = Conv2D(num_filters[2], kernel_size=3, activation='sigmoid', padding='same')(x)\n",
    "\n",
    "    x = UpSampling2D(size=2)(x)\n",
    "    x = Conv2D(num_filters[1], kernel_size=3, activation='sigmoid', padding='same')(x)\n",
    "\n",
    "    x = UpSampling2D(size=2)(x)\n",
    "    lung_seg = Conv2D(1, kernel_size=3, activation='sigmoid', padding='same')(x) # identifying lungs\n",
    "\n",
    "    model = Model(inputs=x_input, outputs=lung_seg, name='lung_seg')\n",
    "    \n",
    "    return model\n",
    "\n",
    "with tf.device('/cpu:0') :\n",
    "    lung_seg = lung_seg([img_size, img_size, 1])\n",
    "    lung_seg.summary()\n",
    "    lung_seg.load_weights(\"../outputs/weights_lungseg.hdf5\")"
   ]
  },
  {
   "cell_type": "markdown",
   "metadata": {},
   "source": [
    "## 3.2. Infection Segmentation"
   ]
  },
  {
   "cell_type": "code",
   "execution_count": 9,
   "metadata": {},
   "outputs": [],
   "source": [
    "def downsampling_block_1 (x_in, conv2Dfilters, maxpool2Dsize=(2,2), trainable=True) :\n",
    "    x = Conv2D(conv2Dfilters, (3,3), activation='relu', padding='same', \n",
    "               kernel_initializer=\"he_normal\", trainable=trainable) (x_in)\n",
    "    x = Conv2D(conv2Dfilters, (3, 3), activation='relu', padding='same', \n",
    "               kernel_initializer=\"he_normal\", trainable=trainable) (x)\n",
    "    x_inter = BatchNormalization(trainable=trainable) (x)\n",
    "    x = MaxPooling2D(maxpool2Dsize) (x_inter) \n",
    "    x = Dropout(0.2)(x) \n",
    "    \n",
    "    return x, x_inter\n",
    "\n",
    "def downsampling_block_2 (x_in, conv2Dfilters, trainable=True) :\n",
    "    x = BatchNormalization(trainable=trainable) (x_in)\n",
    "    x = Conv2D(conv2Dfilters, (3, 3), activation='relu', padding='same', \n",
    "               kernel_initializer=\"he_normal\", trainable=trainable) (x)\n",
    "    x = Conv2D(conv2Dfilters, (3, 3), activation='relu', padding='same', \n",
    "               kernel_initializer=\"he_normal\", trainable=trainable) (x) \n",
    "    \n",
    "    return x"
   ]
  },
  {
   "cell_type": "code",
   "execution_count": 10,
   "metadata": {},
   "outputs": [],
   "source": [
    "## Note: dimensions are listed for a 100x100 input images\n",
    "def single_stage_seg(x_input, num_filters, trainable=True) :\n",
    "    \n",
    "    x, x1 = downsampling_block_1 (x_input, num_filters[0], maxpool2Dsize=(2,2), trainable=trainable) #x: 50x50\n",
    "    x, x2 = downsampling_block_1 (x, num_filters[1], maxpool2Dsize=(2,2), trainable=trainable) #x: 25x25\n",
    "    x, _ = downsampling_block_1 (x, num_filters[2], maxpool2Dsize=(1,1), trainable=trainable) #x: 25x25\n",
    "    x, _ = downsampling_block_1 (x, num_filters[3], maxpool2Dsize=(1,1), trainable=trainable) #x: 25x25\n",
    "\n",
    "    x = downsampling_block_2 (x, num_filters[3], trainable=trainable) #x: 25x25\n",
    "    \n",
    "    x = Conv2DTranspose(num_filters[2], (2, 2), strides=(2,2), padding='same', trainable=trainable) (x) #x: 50x50\n",
    "    x = downsampling_block_2 (x, num_filters[2], trainable=trainable) #x: 50x50\n",
    "\n",
    "    x = Conv2DTranspose(num_filters[1], (2, 2), padding='same', trainable=trainable) (x) #x: 50x50\n",
    "    x = concatenate([x, x2]) #x: 50x50\n",
    "    x = downsampling_block_2 (x, num_filters[1], trainable=trainable) #x: 50x50\n",
    "\n",
    "    x = Conv2DTranspose(num_filters[0], (2, 2), strides=(2,2), padding='same', trainable=trainable) (x) #x: 100x100\n",
    "    x = concatenate([x, x1], axis=3) #x: 100x100\n",
    "    x = downsampling_block_2 (x, num_filters[0], trainable=trainable) #x: 100x100\n",
    "    \n",
    "    return x"
   ]
  },
  {
   "cell_type": "code",
   "execution_count": 12,
   "metadata": {
    "scrolled": true
   },
   "outputs": [
    {
     "name": "stdout",
     "output_type": "stream",
     "text": [
      "Model: \"infect_seg\"\n",
      "__________________________________________________________________________________________________\n",
      "Layer (type)                    Output Shape         Param #     Connected to                     \n",
      "==================================================================================================\n",
      "input_3 (InputLayer)            [(None, 128, 128, 1) 0                                            \n",
      "__________________________________________________________________________________________________\n",
      "conv2d_7 (Conv2D)               (None, 128, 128, 32) 320         input_3[0][0]                    \n",
      "__________________________________________________________________________________________________\n",
      "conv2d_8 (Conv2D)               (None, 128, 128, 32) 9248        conv2d_7[0][0]                   \n",
      "__________________________________________________________________________________________________\n",
      "batch_normalization (BatchNorma (None, 128, 128, 32) 128         conv2d_8[0][0]                   \n",
      "__________________________________________________________________________________________________\n",
      "max_pooling2d_3 (MaxPooling2D)  (None, 64, 64, 32)   0           batch_normalization[0][0]        \n",
      "__________________________________________________________________________________________________\n",
      "dropout (Dropout)               (None, 64, 64, 32)   0           max_pooling2d_3[0][0]            \n",
      "__________________________________________________________________________________________________\n",
      "conv2d_9 (Conv2D)               (None, 64, 64, 64)   18496       dropout[0][0]                    \n",
      "__________________________________________________________________________________________________\n",
      "conv2d_10 (Conv2D)              (None, 64, 64, 64)   36928       conv2d_9[0][0]                   \n",
      "__________________________________________________________________________________________________\n",
      "batch_normalization_1 (BatchNor (None, 64, 64, 64)   256         conv2d_10[0][0]                  \n",
      "__________________________________________________________________________________________________\n",
      "max_pooling2d_4 (MaxPooling2D)  (None, 32, 32, 64)   0           batch_normalization_1[0][0]      \n",
      "__________________________________________________________________________________________________\n",
      "dropout_1 (Dropout)             (None, 32, 32, 64)   0           max_pooling2d_4[0][0]            \n",
      "__________________________________________________________________________________________________\n",
      "conv2d_11 (Conv2D)              (None, 32, 32, 64)   36928       dropout_1[0][0]                  \n",
      "__________________________________________________________________________________________________\n",
      "conv2d_12 (Conv2D)              (None, 32, 32, 64)   36928       conv2d_11[0][0]                  \n",
      "__________________________________________________________________________________________________\n",
      "batch_normalization_2 (BatchNor (None, 32, 32, 64)   256         conv2d_12[0][0]                  \n",
      "__________________________________________________________________________________________________\n",
      "max_pooling2d_5 (MaxPooling2D)  (None, 32, 32, 64)   0           batch_normalization_2[0][0]      \n",
      "__________________________________________________________________________________________________\n",
      "dropout_2 (Dropout)             (None, 32, 32, 64)   0           max_pooling2d_5[0][0]            \n",
      "__________________________________________________________________________________________________\n",
      "conv2d_13 (Conv2D)              (None, 32, 32, 128)  73856       dropout_2[0][0]                  \n",
      "__________________________________________________________________________________________________\n",
      "conv2d_14 (Conv2D)              (None, 32, 32, 128)  147584      conv2d_13[0][0]                  \n",
      "__________________________________________________________________________________________________\n",
      "batch_normalization_3 (BatchNor (None, 32, 32, 128)  512         conv2d_14[0][0]                  \n",
      "__________________________________________________________________________________________________\n",
      "max_pooling2d_6 (MaxPooling2D)  (None, 32, 32, 128)  0           batch_normalization_3[0][0]      \n",
      "__________________________________________________________________________________________________\n",
      "dropout_3 (Dropout)             (None, 32, 32, 128)  0           max_pooling2d_6[0][0]            \n",
      "__________________________________________________________________________________________________\n",
      "batch_normalization_4 (BatchNor (None, 32, 32, 128)  512         dropout_3[0][0]                  \n",
      "__________________________________________________________________________________________________\n",
      "conv2d_15 (Conv2D)              (None, 32, 32, 128)  147584      batch_normalization_4[0][0]      \n",
      "__________________________________________________________________________________________________\n",
      "conv2d_16 (Conv2D)              (None, 32, 32, 128)  147584      conv2d_15[0][0]                  \n",
      "__________________________________________________________________________________________________\n",
      "conv2d_transpose (Conv2DTranspo (None, 64, 64, 64)   32832       conv2d_16[0][0]                  \n",
      "__________________________________________________________________________________________________\n",
      "batch_normalization_5 (BatchNor (None, 64, 64, 64)   256         conv2d_transpose[0][0]           \n",
      "__________________________________________________________________________________________________\n",
      "conv2d_17 (Conv2D)              (None, 64, 64, 64)   36928       batch_normalization_5[0][0]      \n",
      "__________________________________________________________________________________________________\n",
      "conv2d_18 (Conv2D)              (None, 64, 64, 64)   36928       conv2d_17[0][0]                  \n",
      "__________________________________________________________________________________________________\n",
      "conv2d_transpose_1 (Conv2DTrans (None, 64, 64, 64)   16448       conv2d_18[0][0]                  \n",
      "__________________________________________________________________________________________________\n",
      "concatenate (Concatenate)       (None, 64, 64, 128)  0           conv2d_transpose_1[0][0]         \n",
      "                                                                 batch_normalization_1[0][0]      \n",
      "__________________________________________________________________________________________________\n",
      "batch_normalization_6 (BatchNor (None, 64, 64, 128)  512         concatenate[0][0]                \n",
      "__________________________________________________________________________________________________\n",
      "conv2d_19 (Conv2D)              (None, 64, 64, 64)   73792       batch_normalization_6[0][0]      \n",
      "__________________________________________________________________________________________________\n",
      "conv2d_20 (Conv2D)              (None, 64, 64, 64)   36928       conv2d_19[0][0]                  \n",
      "__________________________________________________________________________________________________\n",
      "conv2d_transpose_2 (Conv2DTrans (None, 128, 128, 32) 8224        conv2d_20[0][0]                  \n",
      "__________________________________________________________________________________________________\n",
      "concatenate_1 (Concatenate)     (None, 128, 128, 64) 0           conv2d_transpose_2[0][0]         \n",
      "                                                                 batch_normalization[0][0]        \n",
      "__________________________________________________________________________________________________\n",
      "batch_normalization_7 (BatchNor (None, 128, 128, 64) 256         concatenate_1[0][0]              \n",
      "__________________________________________________________________________________________________\n",
      "conv2d_21 (Conv2D)              (None, 128, 128, 32) 18464       batch_normalization_7[0][0]      \n",
      "__________________________________________________________________________________________________\n",
      "conv2d_22 (Conv2D)              (None, 128, 128, 32) 9248        conv2d_21[0][0]                  \n",
      "__________________________________________________________________________________________________\n",
      "lung_output (Conv2D)            (None, 128, 128, 1)  33          conv2d_22[0][0]                  \n",
      "==================================================================================================\n",
      "Total params: 927,969\n",
      "Trainable params: 926,625\n",
      "Non-trainable params: 1,344\n",
      "__________________________________________________________________________________________________\n"
     ]
    }
   ],
   "source": [
    "def infect_seg(input_shape, num_filters=[32,64,64,128]) :\n",
    "    \n",
    "    x_input = Input(input_shape)\n",
    "    \n",
    "    ###  INFECTION SEGMENTATION\n",
    "    x = single_stage_seg(x_input, num_filters, trainable=True)\n",
    "    \n",
    "    infect_seg = Conv2D(1, (1, 1), activation='sigmoid', \n",
    "                          name='lung_output', trainable=True)(x) # identifying lungs\n",
    "\n",
    "    model = Model(inputs=x_input, outputs=infect_seg, name='infect_seg')\n",
    "    \n",
    "    return model\n",
    "\n",
    "with tf.device('/cpu:0') :\n",
    "    infect_seg = infect_seg([img_size, img_size, 1])\n",
    "    infect_seg.summary()\n",
    "    infect_seg.load_weights(\"../outputs/weights_infectseg.hdf5\")"
   ]
  },
  {
   "cell_type": "markdown",
   "metadata": {},
   "source": [
    "# 4. Helper Function"
   ]
  },
  {
   "cell_type": "code",
   "execution_count": 22,
   "metadata": {},
   "outputs": [],
   "source": [
    "def crop_(img, boundaries):\n",
    "    minx, miny, maxx, maxy = boundaries\n",
    "    return img[miny:miny+maxy, minx:minx+maxx]\n",
    "\n",
    "def make_lungmask_bbox(image, bimage):\n",
    "    height, width = bimage.shape\n",
    "    _, thresh = cv.threshold(bimage.astype('uint8'), 0.5, 1, 0)\n",
    "    contours, _ = cv.findContours(thresh, cv.RETR_TREE, cv.CHAIN_APPROX_SIMPLE)\n",
    "    img_cnt = cv.drawContours(bimage, contours, -1, (0,255,0), 3)\n",
    "        \n",
    "    x0, y0, w0, h0 = cv.boundingRect(contours[0])\n",
    "    x1, y1, w1, h1 = cv.boundingRect(contours[1])\n",
    "\n",
    "    B = [min(x0,x1)-round(0.05*width), \n",
    "         min(y0,y1)-round(0.05*height), \n",
    "         max(x0+w0,x1+w1)-min(x0,x1)+round(0.1*width), \n",
    "         max(y0+h0,y1+h1)-min(y0,y1)+round(0.1*height)]\n",
    "    B = [max(B[0],0), max(B[1],0), min(B[2], width), min(B[3], height)]\n",
    "        \n",
    "    return B"
   ]
  },
  {
   "cell_type": "markdown",
   "metadata": {
    "colab_type": "text",
    "id": "26-GKjVy-2d6"
   },
   "source": [
    "## 5. Loading data"
   ]
  },
  {
   "cell_type": "code",
   "execution_count": 40,
   "metadata": {},
   "outputs": [
    {
     "name": "stdout",
     "output_type": "stream",
     "text": [
      "num of train patients 6\n"
     ]
    }
   ],
   "source": [
    "datadir = '../testing-dir/'\n",
    "\n",
    "glob_search = os.path.join(datadir, 'patient*')\n",
    "test_files = sorted(glob.glob(glob_search))\n",
    "\n",
    "print('num of train patients {}'.format(len(test_files)))"
   ]
  },
  {
   "cell_type": "code",
   "execution_count": 41,
   "metadata": {},
   "outputs": [
    {
     "name": "stderr",
     "output_type": "stream",
     "text": [
      "100%|██████████| 6/6 [00:00<00:00, 12.66it/s]"
     ]
    },
    {
     "name": "stdout",
     "output_type": "stream",
     "text": [
      "85\n"
     ]
    },
    {
     "name": "stderr",
     "output_type": "stream",
     "text": [
      "\n"
     ]
    }
   ],
   "source": [
    "cts_all = []\n",
    "lungs_all = []\n",
    "infects_all = []\n",
    "\n",
    "def load_images_helper (glob_search) :\n",
    "    file = glob.glob(glob_search)\n",
    "    data = nib.load(file[0])\n",
    "    data = data.get_fdata()\n",
    "\n",
    "    height, width, slices = data.shape\n",
    "    sel_slices = range(round(slices*0.2), round(slices*0.8))\n",
    "\n",
    "    data = np.rot90(np.array(data))\n",
    "    data = np.reshape(np.rollaxis(data, 2),(slices,height,width))\n",
    "    data = data[sel_slices, :, :]\n",
    "    \n",
    "    return data\n",
    "    \n",
    "    \n",
    "for fnum in tqdm.tqdm(range(len(test_files))) :\n",
    "    glob_search = os.path.join(test_files[fnum], '*ctscan*.nii')\n",
    "    data_cts = load_images_helper(glob_search)\n",
    "\n",
    "    glob_search = os.path.join(test_files[fnum], '*lung*.nii')\n",
    "    data_lungs = load_images_helper(glob_search)\n",
    "\n",
    "    glob_search = os.path.join(test_files[fnum], '*infection*.nii')\n",
    "    data_infects = load_images_helper(glob_search)\n",
    "\n",
    "    height, width, slices = data_cts.shape\n",
    "\n",
    "    for ii in range(data_cts.shape[0]):\n",
    "        img = cv.resize(data_cts[ii], dsize=(img_size, img_size), interpolation=cv.INTER_AREA)\n",
    "        img = np.reshape(img, (img_size, img_size, 1))\n",
    "        cts_all.append(img)\n",
    "        \n",
    "        img = cv.resize(data_lungs[ii], dsize=(img_size, img_size), interpolation=cv.INTER_AREA)\n",
    "        img = np.reshape(img, (img_size, img_size, 1))\n",
    "        lungs_all.append(img)\n",
    "\n",
    "        img = cv.resize(data_infects[ii], dsize=(img_size, img_size), interpolation=cv.INTER_AREA)\n",
    "        img = np.reshape(img, (img_size, img_size, 1))\n",
    "        infects_all.append(img)\n",
    "        \n",
    "print(len(cts_all))"
   ]
  },
  {
   "cell_type": "code",
   "execution_count": 42,
   "metadata": {},
   "outputs": [
    {
     "name": "stdout",
     "output_type": "stream",
     "text": [
      "(85, 128, 128, 1) (85, 128, 128, 1) (85, 128, 128, 1)\n"
     ]
    }
   ],
   "source": [
    "cts = tf.convert_to_tensor(cts_all)\n",
    "lungs = tf.convert_to_tensor(np.asarray(lungs_all))\n",
    "infects = tf.convert_to_tensor(np.asarray(infects_all))\n",
    "\n",
    "print(cts.shape, lungs.shape, infects.shape)"
   ]
  },
  {
   "cell_type": "markdown",
   "metadata": {},
   "source": [
    "# 6. Lung Segmentation"
   ]
  },
  {
   "cell_type": "code",
   "execution_count": 43,
   "metadata": {},
   "outputs": [
    {
     "name": "stdout",
     "output_type": "stream",
     "text": [
      "(85, 128, 128, 1) (85, 128, 128, 1)\n"
     ]
    }
   ],
   "source": [
    "with tf.device('/cpu:0') :\n",
    "    pred_lungs = lung_seg.predict(cts/255, batch_size=512)\n",
    "    pred_lungs = tf.cast(pred_lungs+0.5, dtype=tf.int32)\n",
    "    \n",
    "print(cts.shape, pred_lungs.shape)"
   ]
  },
  {
   "cell_type": "code",
   "execution_count": 44,
   "metadata": {},
   "outputs": [
    {
     "name": "stdout",
     "output_type": "stream",
     "text": [
      "(81, 128, 128, 1) (81, 128, 128, 1) (81, 128, 128, 1) (81, 128, 128, 1) 4\n"
     ]
    }
   ],
   "source": [
    "ccts = []\n",
    "cpred_lungs = []\n",
    "clungs = []\n",
    "cinfects = []\n",
    "bad_ids = []\n",
    "\n",
    "with tf.device('/cpu:0') :\n",
    "    for ii in range(len(cts)) :\n",
    "        try :\n",
    "            ct_img = np.asarray(cts[ii, :, :, 0])\n",
    "            pred_lung_img = np.asarray(pred_lungs[ii, :, :, 0])\n",
    "            lung_img = np.asarray(lungs[ii, :, :, 0])\n",
    "            infect_img = np.asarray(infects[ii, :, :, 0])\n",
    "\n",
    "            bounds = make_lungmask_bbox(ct_img, pred_lung_img)\n",
    "\n",
    "            img = crop_(ct_img, bounds)\n",
    "            img = cv.resize(img, dsize=(img_size, img_size), interpolation=cv.INTER_AREA)\n",
    "            img = np.reshape(img, (img_size, img_size, 1))\n",
    "            ccts.append(img)\n",
    "\n",
    "            img = crop_(pred_lung_img.astype('float32'), bounds)\n",
    "            img = cv.resize(img, dsize=(img_size, img_size), interpolation=cv.INTER_AREA)\n",
    "            img = np.reshape(img, (img_size, img_size, 1))\n",
    "            cpred_lungs.append(img)\n",
    "\n",
    "            img = crop_(lung_img.astype('float32'), bounds)\n",
    "            img = cv.resize(img, dsize=(img_size, img_size), interpolation=cv.INTER_AREA)\n",
    "            img = np.reshape(img, (img_size, img_size, 1))\n",
    "            clungs.append(img)\n",
    "\n",
    "            cinfect_img = crop_(infect_img.astype('float32'), bounds)\n",
    "            img = cv.resize(cinfect_img, dsize=(img_size, img_size), interpolation=cv.INTER_AREA)\n",
    "            img = np.reshape(img, (img_size, img_size, 1))\n",
    "            cinfects.append(img)\n",
    "        except :\n",
    "            bad_ids.append(ii)\n",
    " \n",
    "ccts = tf.convert_to_tensor(ccts)\n",
    "cpred_lungs = tf.convert_to_tensor(np.asarray(cpred_lungs))\n",
    "clungs = tf.convert_to_tensor(np.asarray(clungs))\n",
    "cinfects = tf.convert_to_tensor(np.asarray(cinfects))\n",
    "    \n",
    "print(ccts.shape, cpred_lungs.shape, clungs.shape, cinfects.shape, len(bad_ids))"
   ]
  },
  {
   "cell_type": "markdown",
   "metadata": {},
   "source": [
    "# 7. Infection Segmentation"
   ]
  },
  {
   "cell_type": "code",
   "execution_count": 45,
   "metadata": {},
   "outputs": [
    {
     "name": "stdout",
     "output_type": "stream",
     "text": [
      "(81, 128, 128, 1) (81, 128, 128, 1) (81, 128, 128, 1) (81, 128, 128, 1)\n"
     ]
    }
   ],
   "source": [
    "with tf.device('/cpu:0') :\n",
    "    pred_infects = infect_seg.predict(ccts/255, batch_size=128)\n",
    "    pred_infects = tf.cast(pred_infects+0.5, dtype=tf.int32)\n",
    "    \n",
    "print(ccts.shape, clungs.shape, pred_infects.shape, cinfects.shape)"
   ]
  },
  {
   "cell_type": "code",
   "execution_count": 66,
   "metadata": {},
   "outputs": [
    {
     "name": "stdout",
     "output_type": "stream",
     "text": [
      "******************** TEST RESULTS ********************\n",
      "\n",
      "\t\t\tloss\t\tdice coeff\n",
      "\t Lung:\t\t0.0590\t\t0.9410\n",
      " \t Infection:\t0.4809\t\t0.5191\n"
     ]
    }
   ],
   "source": [
    "def dice(y_true, y_pred, smooth=1):\n",
    "    intersection = K.sum(y_true * y_pred, axis=[1,2,3])\n",
    "    union = K.sum(y_true, axis=[1,2,3]) + K.sum(y_pred, axis=[1,2,3])\n",
    "    dice = K.mean((2. * intersection + smooth)/(union + smooth), axis=0)\n",
    "    return dice\n",
    "\n",
    "def dice_loss(y_true, y_pred):\n",
    "    loss = 1 - dice(y_true, y_pred)\n",
    "    return loss\n",
    "\n",
    "lung_loss = dice_loss(clungs, cpred_lungs)\n",
    "lung_dice = dice(clungs, cpred_lungs)\n",
    "infect_loss = dice_loss(cinfects, tf.cast(pred_infects, dtype=tf.float32))\n",
    "infect_dice = dice(cinfects, tf.cast(pred_infects, dtype=tf.float32))\n",
    "\n",
    "print('*'*20 + ' TEST RESULTS ' + '*'*20)\n",
    "print(\"\\n\\t\\t\\tloss\\t\\tdice coeff\\n\\t Lung:\\t\\t{:0.4f}\\t\\t{:0.4f}\\n\".format(\n",
    "                lung_loss, lung_dice),\n",
    "                  \"\\t Infection:\\t{:0.4f}\\t\\t{:0.4f}\".format(infect_loss, infect_dice))"
   ]
  },
  {
   "cell_type": "markdown",
   "metadata": {},
   "source": [
    "# 8. Visualize predicted outputs"
   ]
  },
  {
   "cell_type": "code",
   "execution_count": 56,
   "metadata": {
    "colab": {},
    "colab_type": "code",
    "id": "tY4c_PUJo9W8",
    "scrolled": false
   },
   "outputs": [
    {
     "data": {
      "image/png": "[encoded data removed]",
      "text/plain": [
       "<Figure size 864x504 with 5 Axes>"
      ]
     },
     "metadata": {},
     "output_type": "display_data"
    }
   ],
   "source": [
    "def compare_actual_and_predicted(img_num):\n",
    "\n",
    "    fig = plt.figure(figsize=(12,7))\n",
    "\n",
    "    plt.subplot(2,3,1)\n",
    "    plt.imshow(tf.reshape(ccts[img_num], [img_size, img_size]))\n",
    "    plt.title('CT image'); plt.grid(None)\n",
    "    plt.xticks([]); plt.yticks([])\n",
    "    \n",
    "    plt.subplot(2,3,2)\n",
    "    plt.imshow(tf.reshape(clungs[img_num], [img_size, img_size]), cmap='bone')\n",
    "    plt.title('lung mask'); plt.grid(None)\n",
    "    plt.xticks([]); plt.yticks([])\n",
    "\n",
    "    plt.subplot(2,3,3)\n",
    "    plt.imshow(tf.reshape(cinfects[img_num], [img_size, img_size]), cmap='bone')\n",
    "    plt.title('infection mask'); plt.grid(None)\n",
    "    plt.xticks([]); plt.yticks([])\n",
    "\n",
    "    plt.subplot(2,3,5)\n",
    "    plt.imshow(tf.reshape(cpred_lungs[img_num], [img_size, img_size]), cmap='bone')\n",
    "    plt.title('predicted lung mask'); plt.grid(None)\n",
    "    plt.xticks([]); plt.yticks([])\n",
    "\n",
    "    plt.subplot(2,3,6)\n",
    "    plt.imshow(tf.reshape(pred_infects[img_num], [img_size, img_size]), cmap='bone')\n",
    "    plt.title('predicted infection mask'); plt.grid(None)\n",
    "    plt.xticks([]); plt.yticks([])\n",
    "\n",
    "\n",
    "compare_actual_and_predicted(40)"
   ]
  }
 ],
 "metadata": {
  "accelerator": "GPU",
  "colab": {
   "collapsed_sections": [],
   "machine_shape": "hm",
   "name": "True_crossval_3fold_zBEST_0_90_cross_validation.ipynb",
   "provenance": []
  },
  "kernelspec": {
   "display_name": "Python 3",
   "language": "python",
   "name": "python3"
  },
  "language_info": {
   "codemirror_mode": {
    "name": "ipython",
    "version": 3
   },
   "file_extension": ".py",
   "mimetype": "text/x-python",
   "name": "python",
   "nbconvert_exporter": "python",
   "pygments_lexer": "ipython3",
   "version": "3.7.6"
  }
 },
 "nbformat": 4,
 "nbformat_minor": 1
}
